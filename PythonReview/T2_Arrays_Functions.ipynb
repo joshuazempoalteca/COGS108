{
 "cells": [
  {
   "cell_type": "markdown",
   "metadata": {},
   "source": [
    "# Tutorial 2 Arrays and Functions for Scientific Computing"
   ]
  },
  {
   "cell_type": "markdown",
   "metadata": {},
   "source": [
    "## The `numpy` **module** is used in almost all numerical computation using Python. \n",
    "\n",
    "## A **function** is a specialized operation that has been programmed to take one or more *input* variables and return one or more *output* variables.  \n",
    "\n",
    "## In this Tutorial, we will learn about a number of numpy functions that are useful.  I am not going to cover every numpy function.  Im not even going to cover most of them. \n",
    "\n",
    "## I am going to cover some very useful ones, and then I am going to briefly discuss how to search for a numpy function.\n",
    "\n"
   ]
  },
  {
   "cell_type": "markdown",
   "metadata": {},
   "source": [
    "## Import the numpy module"
   ]
  },
  {
   "cell_type": "code",
   "execution_count": 1,
   "metadata": {},
   "outputs": [],
   "source": [
    "import numpy as np"
   ]
  },
  {
   "cell_type": "markdown",
   "metadata": {},
   "source": [
    "## I'm also going to specifically import the random submodule in order to make my code easier to read\n",
    "## I will also start the random number generator"
   ]
  },
  {
   "cell_type": "code",
   "execution_count": 2,
   "metadata": {},
   "outputs": [],
   "source": [
    "from numpy import random\n",
    "myseed = 1967\n",
    "rng = random.default_rng(seed = myseed)"
   ]
  },
  {
   "cell_type": "markdown",
   "metadata": {},
   "source": [
    "## 2.0 A blitz review of indexing into arrays and matrices"
   ]
  },
  {
   "cell_type": "markdown",
   "metadata": {},
   "source": [
    "### Examine these examples, to review indexing into arrays and matrices.  "
   ]
  },
  {
   "cell_type": "code",
   "execution_count": 4,
   "metadata": {},
   "outputs": [],
   "source": [
    "v = rng.integers(0,10,10) # 10 integers from 0 to 9 \n",
    "M = rng.integers(0,10,(5,6)) # 5 rows and 6 columns \n"
   ]
  },
  {
   "cell_type": "markdown",
   "metadata": {},
   "source": [
    "### Extract index 0,2,4 from v into a new array w"
   ]
  },
  {
   "cell_type": "code",
   "execution_count": 5,
   "metadata": {},
   "outputs": [
    {
     "name": "stdout",
     "output_type": "stream",
     "text": [
      "[6 6 7 2 3 5 2 5 0 4]\n",
      "[6 7 3]\n"
     ]
    }
   ],
   "source": [
    "w = v[0:6:2]\n",
    "print(v)\n",
    "print(w)"
   ]
  },
  {
   "cell_type": "markdown",
   "metadata": {},
   "source": [
    "### Lets insert 3 new values in to array at index 1,4,7\n",
    "### I am going to draw them from the range -10 to 0"
   ]
  },
  {
   "cell_type": "code",
   "execution_count": 6,
   "metadata": {},
   "outputs": [
    {
     "name": "stdout",
     "output_type": "stream",
     "text": [
      "[ -5 -10  -5]\n",
      "[  6  -5   7   2 -10   5   2  -5   0   4]\n"
     ]
    }
   ],
   "source": [
    "u = rng.integers(-10,0,3)\n",
    "print(u)\n",
    "v[1:10:3] = u  # replace these with u \n",
    "print(v) #print new values in v "
   ]
  },
  {
   "cell_type": "markdown",
   "metadata": {},
   "source": [
    "### 2.0.1 Shorcuts and tricks "
   ]
  },
  {
   "cell_type": "code",
   "execution_count": 7,
   "metadata": {},
   "outputs": [
    {
     "name": "stdout",
     "output_type": "stream",
     "text": [
      "[8 8 3 3 1 6 6 2]\n"
     ]
    }
   ],
   "source": [
    "A = rng.integers(0,10,8)\n",
    "print(A)"
   ]
  },
  {
   "cell_type": "code",
   "execution_count": 8,
   "metadata": {},
   "outputs": [
    {
     "data": {
      "text/plain": [
       "array([8, 3, 1, 6])"
      ]
     },
     "execution_count": 8,
     "metadata": {},
     "output_type": "execute_result"
    }
   ],
   "source": [
    "A[::2] # step is 2, lower and upper defaults to the beginning and end of the array"
   ]
  },
  {
   "cell_type": "code",
   "execution_count": 9,
   "metadata": {},
   "outputs": [
    {
     "data": {
      "text/plain": [
       "array([8, 8, 3])"
      ]
     },
     "execution_count": 9,
     "metadata": {},
     "output_type": "execute_result"
    }
   ],
   "source": [
    "A[:3] # first three elements"
   ]
  },
  {
   "cell_type": "code",
   "execution_count": 10,
   "metadata": {},
   "outputs": [
    {
     "data": {
      "text/plain": [
       "array([3, 1, 6, 6, 2])"
      ]
     },
     "execution_count": 10,
     "metadata": {},
     "output_type": "execute_result"
    }
   ],
   "source": [
    "A[3:] # all elements from index 3"
   ]
  },
  {
   "cell_type": "markdown",
   "metadata": {},
   "source": [
    "### And the most useful shortcut, to get the last n elements of an array A[-n:]"
   ]
  },
  {
   "cell_type": "code",
   "execution_count": 11,
   "metadata": {},
   "outputs": [
    {
     "data": {
      "text/plain": [
       "array([6, 6, 2])"
      ]
     },
     "execution_count": 11,
     "metadata": {},
     "output_type": "execute_result"
    }
   ],
   "source": [
    "A[-3:]"
   ]
  },
  {
   "cell_type": "markdown",
   "metadata": {},
   "source": [
    "### 2.0.2 Index Slicing in Matrices"
   ]
  },
  {
   "cell_type": "code",
   "execution_count": 12,
   "metadata": {},
   "outputs": [
    {
     "name": "stdout",
     "output_type": "stream",
     "text": [
      "[[5 3 1 4 5 3 6]\n",
      " [1 5 6 5 5 3 3]\n",
      " [2 3 3 3 3 6 6]\n",
      " [3 2 6 3 5 1 5]\n",
      " [3 5 5 6 5 4 6]\n",
      " [6 1 5 2 3 4 4]\n",
      " [4 5 3 5 6 1 2]]\n"
     ]
    }
   ],
   "source": [
    "B = rng.integers(1,7,(7,7))\n",
    "print(B)"
   ]
  },
  {
   "cell_type": "code",
   "execution_count": 13,
   "metadata": {},
   "outputs": [
    {
     "data": {
      "text/plain": [
       "array([2, 3, 3, 3, 3, 6, 6])"
      ]
     },
     "execution_count": 13,
     "metadata": {},
     "output_type": "execute_result"
    }
   ],
   "source": [
    "#Grab the 3rd  row from the matrix (index = 1) \n",
    "B[2,:]"
   ]
  },
  {
   "cell_type": "code",
   "execution_count": 14,
   "metadata": {},
   "outputs": [
    {
     "data": {
      "text/plain": [
       "array([4, 5, 3, 3, 6, 2, 5])"
      ]
     },
     "execution_count": 14,
     "metadata": {},
     "output_type": "execute_result"
    }
   ],
   "source": [
    "#Grab the 4th column from the matrix \n",
    "B[:,3]\n"
   ]
  },
  {
   "cell_type": "code",
   "execution_count": 15,
   "metadata": {},
   "outputs": [
    {
     "name": "stdout",
     "output_type": "stream",
     "text": [
      "[[3 1]\n",
      " [5 6]]\n"
     ]
    }
   ],
   "source": [
    "# a block from the original array\n",
    "C = B[0:2, 1:3]\n",
    "print(C)"
   ]
  },
  {
   "cell_type": "code",
   "execution_count": 16,
   "metadata": {},
   "outputs": [
    {
     "name": "stdout",
     "output_type": "stream",
     "text": [
      "[[5 1 5 6]\n",
      " [2 3 3 6]\n",
      " [3 5 5 6]\n",
      " [4 3 6 2]]\n"
     ]
    }
   ],
   "source": [
    "#Alternate rows and columns from the original array \n",
    "D = B[::2, ::2]\n",
    "print(D)"
   ]
  },
  {
   "cell_type": "markdown",
   "metadata": {},
   "source": [
    "## 2.1 Sorting functions for `numpy` arrays"
   ]
  },
  {
   "cell_type": "markdown",
   "metadata": {},
   "source": [
    "### In many operations with data it is useful to be able to sort the data from lowest to highest, or highest to lowest. \n",
    "\n",
    "### To faciliate these examples, I am going to make an array v and a matrix m. \n"
   ]
  },
  {
   "cell_type": "code",
   "execution_count": 17,
   "metadata": {},
   "outputs": [],
   "source": [
    "v = rng.integers(1,7,10)  # 20 random numbers between 1 and 6\n",
    "M = rng.integers(1,7,(6,10)) # 6 by 10 matrix containing random numbers between 1 and 6 "
   ]
  },
  {
   "cell_type": "markdown",
   "metadata": {},
   "source": [
    "### 2.1.1 Array sort\n",
    "\n",
    "### It's not surprising that the function that will sort an array is called `sort`"
   ]
  },
  {
   "cell_type": "code",
   "execution_count": 18,
   "metadata": {},
   "outputs": [
    {
     "name": "stdout",
     "output_type": "stream",
     "text": [
      "v = [1 6 4 6 2 1 4 2 4 2]\n",
      "v_sorted = [1 1 2 2 2 4 4 4 6 6]\n"
     ]
    }
   ],
   "source": [
    "v_sorted = np.sort(v)\n",
    "print('v =', v)\n",
    "print('v_sorted =',v_sorted)"
   ]
  },
  {
   "cell_type": "markdown",
   "metadata": {},
   "source": [
    "### Numpy `sort` function always sorts from lowest to highest.  What if I wanted to sort from highest to lowest? \n",
    "\n",
    "### Numpy has a `flip` function that allows up reverse the order of the elements in an array. "
   ]
  },
  {
   "cell_type": "code",
   "execution_count": 19,
   "metadata": {},
   "outputs": [
    {
     "name": "stdout",
     "output_type": "stream",
     "text": [
      "v_flipped =  [2 4 2 4 1 2 6 4 6 1]\n"
     ]
    }
   ],
   "source": [
    "v_flipped = np.flip(v)\n",
    "print('v_flipped = ', v_flipped)\n"
   ]
  },
  {
   "cell_type": "markdown",
   "metadata": {},
   "source": [
    "### It would take two commands to sort an array from the highest to the lowest element. "
   ]
  },
  {
   "cell_type": "code",
   "execution_count": 20,
   "metadata": {},
   "outputs": [
    {
     "name": "stdout",
     "output_type": "stream",
     "text": [
      "v_sorted = [6 6 4 4 4 2 2 2 1 1]\n"
     ]
    }
   ],
   "source": [
    "v_sorted = np.sort(v)\n",
    "v_sorted = np.flip(v_sorted)\n",
    "print('v_sorted =', v_sorted)"
   ]
  },
  {
   "cell_type": "markdown",
   "metadata": {},
   "source": [
    "### I could actually do it one step by **nesting** my functions like this. "
   ]
  },
  {
   "cell_type": "code",
   "execution_count": 21,
   "metadata": {
    "scrolled": true
   },
   "outputs": [
    {
     "name": "stdout",
     "output_type": "stream",
     "text": [
      "v_sorted = [6 6 4 4 4 2 2 2 1 1]\n"
     ]
    }
   ],
   "source": [
    "v_sorted = np.flip(np.sort(v)) # I implicitly take the output of np.sort and enter into np.flip\n",
    "print('v_sorted =', v_sorted)"
   ]
  },
  {
   "cell_type": "markdown",
   "metadata": {},
   "source": [
    "### 2.1.2 Matrix sort"
   ]
  },
  {
   "cell_type": "markdown",
   "metadata": {},
   "source": [
    "### What does sorting a matrix (or any array with more than one dimension) do? "
   ]
  },
  {
   "cell_type": "code",
   "execution_count": 22,
   "metadata": {
    "scrolled": true
   },
   "outputs": [
    {
     "name": "stdout",
     "output_type": "stream",
     "text": [
      "M\n",
      "[[3 5 1 2 3 2 3 1 3 5]\n",
      " [1 6 3 2 4 4 5 3 6 6]\n",
      " [4 3 2 4 2 2 5 6 4 4]\n",
      " [4 2 1 3 6 4 1 6 2 5]\n",
      " [6 5 5 6 2 2 6 3 3 1]\n",
      " [3 6 1 2 1 2 6 5 6 4]]\n",
      "M_test\n",
      "[[1 1 2 2 3 3 3 3 5 5]\n",
      " [1 2 3 3 4 4 5 6 6 6]\n",
      " [2 2 2 3 4 4 4 4 5 6]\n",
      " [1 1 2 2 3 4 4 5 6 6]\n",
      " [1 2 2 3 3 5 5 6 6 6]\n",
      " [1 1 2 2 3 4 5 6 6 6]]\n"
     ]
    }
   ],
   "source": [
    "M_test = np.sort(M)\n",
    "print('M')\n",
    "print(M)\n",
    "print('M_test')\n",
    "print(M_test)"
   ]
  },
  {
   "cell_type": "markdown",
   "metadata": {},
   "source": [
    "### If we compare the two matrices, it looks like it took each row of M and applied a sort to it.\n",
    "\n",
    "### When sorting a matrix or higher dimension array, we can make explicit which dimension we want to apply the sort along. \n",
    "\n",
    "### Recall that in a matrix (2 dimensional array), the first dimension or in python *axis* is 0 and the second dimension or *axis* is 1.  "
   ]
  },
  {
   "cell_type": "code",
   "execution_count": 24,
   "metadata": {},
   "outputs": [
    {
     "name": "stdout",
     "output_type": "stream",
     "text": [
      "M before being sorted\n",
      "[[3 5 1 2 3 2 3 1 3 5]\n",
      " [1 6 3 2 4 4 5 3 6 6]\n",
      " [4 3 2 4 2 2 5 6 4 4]\n",
      " [4 2 1 3 6 4 1 6 2 5]\n",
      " [6 5 5 6 2 2 6 3 3 1]\n",
      " [3 6 1 2 1 2 6 5 6 4]]\n",
      "M_sorted_0\n",
      "[[1 2 1 2 1 2 1 1 2 1]\n",
      " [3 3 1 2 2 2 3 3 3 4]\n",
      " [3 5 1 2 2 2 5 3 3 4]\n",
      " [4 5 2 3 3 2 5 5 4 5]\n",
      " [4 6 3 4 4 4 6 6 6 5]\n",
      " [6 6 5 6 6 4 6 6 6 6]]\n",
      "M_sorted_1\n",
      "[[1 1 2 2 3 3 3 3 5 5]\n",
      " [1 2 3 3 4 4 5 6 6 6]\n",
      " [2 2 2 3 4 4 4 4 5 6]\n",
      " [1 1 2 2 3 4 4 5 6 6]\n",
      " [1 2 2 3 3 5 5 6 6 6]\n",
      " [1 1 2 2 3 4 5 6 6 6]]\n"
     ]
    }
   ],
   "source": [
    "M_sorted_0 = np.sort(M, axis = 0)\n",
    "M_sorted_1 = np.sort(M, axis = 1)\n",
    "print('M before being sorted')\n",
    "print(M)\n",
    "print('M_sorted_0')\n",
    "print(M_sorted_0)\n",
    "print('M_sorted_1')\n",
    "print(M_sorted_1)"
   ]
  },
  {
   "cell_type": "markdown",
   "metadata": {},
   "source": [
    "### Specifying axis = 0 sorted each column along the rows.\n",
    "### Specifying axis = 1 sorted each row along the columns. \n",
    "### The default behavior of `sort` is to sort along the last axis.\n",
    "### It's good practice to specify the *axis* along which you want to sort unless its a simple array. "
   ]
  },
  {
   "cell_type": "markdown",
   "metadata": {},
   "source": [
    "### If I need to sort a matrix along descending order, I can use the sort function as above, and the `flip` function also specifying an axis "
   ]
  },
  {
   "cell_type": "code",
   "execution_count": 25,
   "metadata": {
    "scrolled": true
   },
   "outputs": [
    {
     "name": "stdout",
     "output_type": "stream",
     "text": [
      "[[5 5 3 3 3 3 2 2 1 1]\n",
      " [6 6 6 5 4 4 3 3 2 1]\n",
      " [6 5 4 4 4 4 3 2 2 2]\n",
      " [6 6 5 4 4 3 2 2 1 1]\n",
      " [6 6 6 5 5 3 3 2 2 1]\n",
      " [6 6 6 5 4 3 2 2 1 1]]\n"
     ]
    }
   ],
   "source": [
    "M_sorted_1 = np.flip(M_sorted_1,axis =1)\n",
    "print(M_sorted_1)"
   ]
  },
  {
   "cell_type": "markdown",
   "metadata": {},
   "source": [
    "### 2.1.3 Ordered Indices - `argsort`"
   ]
  },
  {
   "cell_type": "markdown",
   "metadata": {},
   "source": [
    "### In many (*most?*) circumstances you don't only want to be able to obtain a sorted list of items, but you also want to know *what order of indices* produces the sorted list.  This may not seem obvious, but i will make some examples here that illustrate why this is important. "
   ]
  },
  {
   "cell_type": "code",
   "execution_count": 26,
   "metadata": {},
   "outputs": [],
   "source": [
    "v = random.randint(1,7,10)\n",
    "v_sorted = np.sort(v) #This obtains a sorted list in increasing order. "
   ]
  },
  {
   "cell_type": "markdown",
   "metadata": {},
   "source": [
    "### The `argsort` function tells you the order of indices to sort an array"
   ]
  },
  {
   "cell_type": "code",
   "execution_count": 29,
   "metadata": {
    "scrolled": true
   },
   "outputs": [
    {
     "name": "stdout",
     "output_type": "stream",
     "text": [
      "i =  [0 1 2 3 4 5 6 7 8 9]\n",
      "v =  [5 1 1 3 6 1 5 5 3 4]\n",
      "sort_order =  [1 2 5 3 8 9 0 6 7 4]\n"
     ]
    }
   ],
   "source": [
    "sort_order = np.argsort(v) #This obtains a list of ordered indices that you could use to sort v \n",
    "print('i = ',np.arange(0,10,1)) # i just wanted to track the index \n",
    "print('v = ',v)\n",
    "print('sort_order = ',sort_order)"
   ]
  },
  {
   "cell_type": "code",
   "execution_count": 30,
   "metadata": {
    "scrolled": false
   },
   "outputs": [
    {
     "name": "stdout",
     "output_type": "stream",
     "text": [
      "v_sorted =  [1 1 1 3 3 4 5 5 5 6]\n",
      "v_sorted_byorder =  [1 1 1 3 3 4 5 5 5 6]\n"
     ]
    }
   ],
   "source": [
    "v_sorted_byorder = v[sort_order]\n",
    "print('v_sorted = ',v_sorted)\n",
    "print('v_sorted_byorder = ', v_sorted_byorder)"
   ]
  },
  {
   "cell_type": "markdown",
   "metadata": {},
   "source": [
    "### Why is this useful? \n",
    "\n",
    "### Many times, we want to sort data on one variable, *and sort other variables in the same order*\n",
    "\n",
    "### I provide an example here. "
   ]
  },
  {
   "cell_type": "code",
   "execution_count": 31,
   "metadata": {},
   "outputs": [],
   "source": [
    "age = np.array([55,58,72,46,48,65]) #age in years\n",
    "LDL = np.array([65,90,120,55,70,100]) #LDL - bad cholesterol "
   ]
  },
  {
   "cell_type": "markdown",
   "metadata": {},
   "source": [
    "### I want to quickly look at those numbers and determine if LDL (bad cholesterol) goes up with age.  \n",
    "### What I'm going to do is sort the data by age and then use that sort order with the LDL data. "
   ]
  },
  {
   "cell_type": "code",
   "execution_count": 32,
   "metadata": {},
   "outputs": [
    {
     "name": "stdout",
     "output_type": "stream",
     "text": [
      "age =  [46 48 55 58 65 72]\n",
      "LDL =  [ 55  70  65  90 100 120]\n"
     ]
    }
   ],
   "source": [
    "age_order = np.argsort(age)\n",
    "age_sorted = age[age_order]\n",
    "LDL_sorted_byage = LDL[age_order]\n",
    "print('age = ', age_sorted)\n",
    "print('LDL = ', LDL_sorted_byage)"
   ]
  },
  {
   "cell_type": "markdown",
   "metadata": {},
   "source": [
    "### We can also use this approach with a matrix and sort one column (or row)  and apply that ordering to the other columns (or rows)"
   ]
  },
  {
   "cell_type": "markdown",
   "metadata": {},
   "source": [
    "##  2.2 Mathematical Functions in numpy"
   ]
  },
  {
   "cell_type": "markdown",
   "metadata": {},
   "source": [
    "### Numpy has built in a large number of mathematical functions.  \n",
    "\n",
    "### 2.2.1 Basic Math\n",
    "### Of course the basic operations will work on numpy arrays, element by element:\n",
    "* +, addition                                  \n",
    "* -, subtraction\n",
    "* \\*, multiplication\n",
    "* / division \n",
    "* \\*\\*, exponentiation \n",
    "* //, floor division or integer division \n",
    "* %, remainder \n",
    "### **THEY WILL ONLY WORK WITH A CONSTANT OR WITH ARRAYS OF THE SAME SIZE**"
   ]
  },
  {
   "cell_type": "code",
   "execution_count": 33,
   "metadata": {
    "scrolled": true
   },
   "outputs": [
    {
     "name": "stdout",
     "output_type": "stream",
     "text": [
      "[0.5 1.  2. ]\n",
      "[4 6 8]\n"
     ]
    }
   ],
   "source": [
    "a = np.array([0.5, 1,2])\n",
    "b = np.array([4,6,8]) \n",
    "c = np.array([-1,1])\n",
    "print(a)\n",
    "print(b)\n",
    "#lets test the operations above. "
   ]
  },
  {
   "cell_type": "markdown",
   "metadata": {},
   "source": [
    "### This is just a self exercise, to make sure you are comfortable with doing basic math operations. \n",
    "## verify what happens when you do \n",
    "*   a+b\n",
    "*   a-b\n",
    "*   a*b\n",
    "*   a/b\n",
    "*   a**2\n",
    "*   b/3\n",
    "*   b//3\n",
    "*   b%3 \n",
    "### You dont need to submit these responses.  Just do it for yourself in the box below. \n",
    "### Also confirm you cannot do this \n",
    "*   a+c\n",
    "### This is because the arrays do not match in size.  \n"
   ]
  },
  {
   "cell_type": "code",
   "execution_count": 34,
   "metadata": {},
   "outputs": [
    {
     "name": "stdout",
     "output_type": "stream",
     "text": [
      "[ 4.5  7.  10. ]\n",
      "[-3.5 -5.  -6. ]\n",
      "[ 2.  6. 16.]\n",
      "[0.125      0.16666667 0.25      ]\n",
      "[0.25 1.   4.  ]\n",
      "[1.33333333 2.         2.66666667]\n",
      "[1 2 2]\n",
      "[1 0 2]\n"
     ]
    }
   ],
   "source": [
    "print(a+b)\n",
    "print(a-b)\n",
    "print(a*b)\n",
    "print(a/b)\n",
    "print(a**2)\n",
    "print(b/3)\n",
    "print(b//3)\n",
    "print(b%3)"
   ]
  },
  {
   "cell_type": "markdown",
   "metadata": {
    "scrolled": true
   },
   "source": [
    "### 2.2.2 Manipulating Sign and Data Type\n",
    "### There are also some basic manipulation of the sign and type of data:\n",
    "* absolute, computes the absolute value\n",
    "* rint, rounds to the nearest integer\n",
    "* floor, discard the decimal and return integer value  \n",
    "* ceil, return the first integer higher than the number\n",
    "* sign, returns -1 for negative values and 1 for positive values "
   ]
  },
  {
   "cell_type": "code",
   "execution_count": 35,
   "metadata": {
    "scrolled": false
   },
   "outputs": [
    {
     "name": "stdout",
     "output_type": "stream",
     "text": [
      "[-1.5 -0.5  0.   0.5  1. ]\n"
     ]
    }
   ],
   "source": [
    "c = np.array([-1.5, -0.5, 0,0.5, 1])\n",
    "print(c)\n",
    "#let's test the operations above"
   ]
  },
  {
   "cell_type": "markdown",
   "metadata": {},
   "source": [
    "### Please attempt each of the functions above to familiarize yourself with the output.   "
   ]
  },
  {
   "cell_type": "code",
   "execution_count": null,
   "metadata": {},
   "outputs": [],
   "source": []
  },
  {
   "cell_type": "markdown",
   "metadata": {},
   "source": [
    "### 2.2.3 Maximum and minimum \n",
    "\n",
    "### There are three pairs of functions that handle maximum and minimum of arrays. \n",
    "\n",
    "## First, within an array to find the maximum/minimum along a dimension (*axis* uses \n",
    "* `amax`\n",
    "* `amin` \n",
    "\n",
    "## Second, to find the index of the maximum or minimum element of an array we make use of \n",
    "* `argmax`\n",
    "* `argmin`\n",
    "\n",
    "### Third, to compare two equal size arrays element by element, use \n",
    "* `maximum`\n",
    "* `minimum` "
   ]
  },
  {
   "cell_type": "code",
   "execution_count": 36,
   "metadata": {},
   "outputs": [],
   "source": [
    "v = rng.integers(1,21,15)\n",
    "M = rng.integers(1,21,(5,6))"
   ]
  },
  {
   "cell_type": "markdown",
   "metadata": {},
   "source": [
    "### Lets get the maximum of v and find the index where the maximum is found"
   ]
  },
  {
   "cell_type": "code",
   "execution_count": 37,
   "metadata": {
    "scrolled": false
   },
   "outputs": [
    {
     "name": "stdout",
     "output_type": "stream",
     "text": [
      "v =  [17  2 17 10 19  7 14 12 20 10  9 19 18  6 12]\n",
      "maxv =  20\n",
      "index_maxv = 8\n"
     ]
    }
   ],
   "source": [
    "maxv = np.max(v)\n",
    "index_maxv = np.argmax(v)\n",
    "print('v = ',v)\n",
    "print('maxv = ',maxv)\n",
    "print('index_maxv =', index_maxv)"
   ]
  },
  {
   "cell_type": "markdown",
   "metadata": {},
   "source": [
    "### Lets get the minimum of v and find the index where the minimum is found"
   ]
  },
  {
   "cell_type": "code",
   "execution_count": 38,
   "metadata": {
    "scrolled": true
   },
   "outputs": [
    {
     "name": "stdout",
     "output_type": "stream",
     "text": [
      "v =  [17  2 17 10 19  7 14 12 20 10  9 19 18  6 12]\n",
      "minv =  2\n",
      "index_minv = 1\n"
     ]
    }
   ],
   "source": [
    "minv = np.min(v)\n",
    "index_minv = np.argmin(v)\n",
    "print('v = ',v)\n",
    "print('minv = ',minv)\n",
    "print('index_minv =', index_minv)"
   ]
  },
  {
   "cell_type": "markdown",
   "metadata": {},
   "source": [
    "### When working with a matrix we should specify an *axis*"
   ]
  },
  {
   "cell_type": "code",
   "execution_count": 39,
   "metadata": {
    "scrolled": true
   },
   "outputs": [
    {
     "name": "stdout",
     "output_type": "stream",
     "text": [
      "M\n",
      "[[ 4  3  4  3  1  3]\n",
      " [ 8 15 14  6 17 12]\n",
      " [19 11  8 15 12  2]\n",
      " [16  9  4 16  8  9]\n",
      " [ 1 14  1  7 17 12]]\n",
      "max, axis = 0\n",
      "[19 15 14 16 17 12]\n",
      "min, axis = 1\n",
      "[ 4 17 19 16 17]\n"
     ]
    }
   ],
   "source": [
    "maxM_0 = np.max(M,axis = 0)\n",
    "maxM_1 = np.max(M,axis = 1)\n",
    "print('M')\n",
    "print(M)\n",
    "print('max, axis = 0')\n",
    "print(maxM_0)\n",
    "print('min, axis = 1')\n",
    "print(maxM_1)"
   ]
  },
  {
   "cell_type": "markdown",
   "metadata": {},
   "source": [
    "### I can also compare two arrays element by element "
   ]
  },
  {
   "cell_type": "code",
   "execution_count": 41,
   "metadata": {},
   "outputs": [
    {
     "name": "stdout",
     "output_type": "stream",
     "text": [
      "w =  [4 1 1 4 2 5 4 2 5 1]\n",
      "u =  [4 6 3 4 1 6 5 3 6 1]\n",
      "p (maximums between w and u) =  [4 6 3 4 2 6 5 3 6 1]\n",
      "q (minimums between w and u)=  [4 1 1 4 1 5 4 2 5 1]\n"
     ]
    }
   ],
   "source": [
    "w = rng.integers(1,7,10)\n",
    "u = rng.integers(1,7,10)\n",
    "print('w = ',w)\n",
    "print('u = ',u)\n",
    "p = np.maximum(u,w)\n",
    "q = np.minimum(u,w)\n",
    "print('p (maximums between w and u) = ',p)\n",
    "print('q (minimums between w and u)= ',q)"
   ]
  },
  {
   "cell_type": "markdown",
   "metadata": {},
   "source": [
    "### 4.2.4 Exponential and Logarithmic Functions \n",
    "\n",
    "### One set of immensely useful functions are exponential and logarithmic functions.\n",
    "\n",
    "* exp, calculates exponential of all elements in an array \n",
    "* log, natural logarithm, ln, base e\n",
    "* log10, base 10 logarithm "
   ]
  },
  {
   "cell_type": "code",
   "execution_count": 42,
   "metadata": {},
   "outputs": [],
   "source": [
    "x = np.linspace(0,2,10)\n",
    "z = np.linspace(1,109,13)\n",
    "# I'm gonna do some stuff here to make plots.  I'm making bad low-grade plots here.  \n",
    "# I'll teach you to make good ones, next week \n",
    "from matplotlib import pyplot as plt"
   ]
  },
  {
   "cell_type": "code",
   "execution_count": 43,
   "metadata": {},
   "outputs": [
    {
     "data": {
      "image/png": "[encoded data removed]",
      "text/plain": [
       "<Figure size 432x288 with 1 Axes>"
      ]
     },
     "metadata": {
      "needs_background": "light"
     },
     "output_type": "display_data"
    }
   ],
   "source": [
    "y = np.exp(x)\n",
    "plt.plot(x,y,'ro')\n",
    "plt.show()"
   ]
  },
  {
   "cell_type": "code",
   "execution_count": 44,
   "metadata": {},
   "outputs": [
    {
     "data": {
      "text/plain": [
       "[<matplotlib.lines.Line2D at 0x7fd0fe820310>]"
      ]
     },
     "execution_count": 44,
     "metadata": {},
     "output_type": "execute_result"
    },
    {
     "data": {
      "image/png": "[encoded data removed]",
      "text/plain": [
       "<Figure size 432x288 with 1 Axes>"
      ]
     },
     "metadata": {
      "needs_background": "light"
     },
     "output_type": "display_data"
    }
   ],
   "source": [
    "y = np.log(z)\n",
    "plt.plot(z,y,'bo')"
   ]
  },
  {
   "cell_type": "code",
   "execution_count": 45,
   "metadata": {},
   "outputs": [
    {
     "data": {
      "text/plain": [
       "[<matplotlib.lines.Line2D at 0x7fd0fe948400>]"
      ]
     },
     "execution_count": 45,
     "metadata": {},
     "output_type": "execute_result"
    },
    {
     "data": {
      "image/png": "[encoded data removed]",
      "text/plain": [
       "<Figure size 432x288 with 1 Axes>"
      ]
     },
     "metadata": {
      "needs_background": "light"
     },
     "output_type": "display_data"
    }
   ],
   "source": [
    "y = np.log10(z)\n",
    "plt.plot(z,y,'bo')"
   ]
  },
  {
   "cell_type": "markdown",
   "metadata": {},
   "source": [
    "### 4.2.5 Trignometric Functions\n",
    "\n",
    "### Trignometric functions are also available.  I will not make use of these until the very end of the class when we synthesize sound.  But yes you can make, sin, cos, tan, etc. "
   ]
  },
  {
   "cell_type": "code",
   "execution_count": 46,
   "metadata": {},
   "outputs": [
    {
     "data": {
      "image/png": "[encoded data removed]",
      "text/plain": [
       "<Figure size 432x288 with 1 Axes>"
      ]
     },
     "metadata": {
      "needs_background": "light"
     },
     "output_type": "display_data"
    }
   ],
   "source": [
    "angle_in_degrees = np.linspace(0,360,20)\n",
    "angle_in_radians = angle_in_degrees*np.pi/180\n",
    "z = np.sin(angle_in_radians)\n",
    "plt.plot(angle_in_radians,z)\n",
    "plt.show()"
   ]
  },
  {
   "cell_type": "code",
   "execution_count": 47,
   "metadata": {},
   "outputs": [
    {
     "data": {
      "image/png": "[encoded data removed]",
      "text/plain": [
       "<Figure size 432x288 with 1 Axes>"
      ]
     },
     "metadata": {
      "needs_background": "light"
     },
     "output_type": "display_data"
    }
   ],
   "source": [
    "angle_in_degrees = np.linspace(0,360,20)\n",
    "angle_in_radians = angle_in_degrees*np.pi/180\n",
    "z = np.cos(angle_in_radians)\n",
    "plt.plot(angle_in_radians,z)\n",
    "plt.show()"
   ]
  }
 ],
 "metadata": {
  "kernelspec": {
   "display_name": "Python 3.9.12 ('base')",
   "language": "python",
   "name": "python3"
  },
  "language_info": {
   "codemirror_mode": {
    "name": "ipython",
    "version": 3
   },
   "file_extension": ".py",
   "mimetype": "text/x-python",
   "name": "python",
   "nbconvert_exporter": "python",
   "pygments_lexer": "ipython3",
   "version": "3.9.12"
  },
  "vscode": {
   "interpreter": {
    "hash": "c0ee39e78efaad2cd4905c526464c317a2db72f3d6af560f02cdc53ddfddf21e"
   }
  }
 },
 "nbformat": 4,
 "nbformat_minor": 1
}
