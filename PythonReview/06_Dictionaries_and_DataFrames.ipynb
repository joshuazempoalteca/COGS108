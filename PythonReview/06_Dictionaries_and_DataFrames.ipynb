{
 "cells": [
  {
   "cell_type": "markdown",
   "metadata": {},
   "source": [
    "# Lesson 6 Dictionaries and DataFrames\n",
    "\n",
    "## This lesson will provide a brief introduction to two of the basic ways to organize information in python. \n",
    "\n",
    "## **Dictionaries** are a built in method in Python\n",
    "\n",
    "## **DataFrames** are a part of the `pandas` module.  They are very similar to dictionaries, but have become widely used because of the ease of importing and exporting data.  "
   ]
  },
  {
   "cell_type": "code",
   "execution_count": 1,
   "metadata": {},
   "outputs": [],
   "source": [
    "import numpy as np \n",
    "from matplotlib import pyplot as plt"
   ]
  },
  {
   "cell_type": "code",
   "execution_count": 2,
   "metadata": {},
   "outputs": [],
   "source": [
    "import pandas as pd"
   ]
  },
  {
   "cell_type": "markdown",
   "metadata": {},
   "source": [
    "## 6.1 Dictionaries"
   ]
  },
  {
   "cell_type": "markdown",
   "metadata": {},
   "source": [
    "### Let's recall how lists work.  "
   ]
  },
  {
   "cell_type": "code",
   "execution_count": 5,
   "metadata": {},
   "outputs": [
    {
     "name": "stdout",
     "output_type": "stream",
     "text": [
      "Original List: ['Kawhi', 'Leonard', 'June', 29, 1991, 79.0]\n",
      "Updated List: ['Kawhi', 'Leonard', 'June', 29, 1991, 79.0, 26.0, 6.6, 5.0, 1.7, 0.4]\n"
     ]
    }
   ],
   "source": [
    "my_kawhi_list = ['Kawhi','Leonard','June',29,1991,79.0]\n",
    "print(\"Original List:\", my_kawhi_list)\n",
    "points = 26.0\n",
    "rebounds = 6.6\n",
    "assists = 5.0\n",
    "steals = 1.7\n",
    "blocks = 0.4\n",
    "#lets add these numbers to the list \n",
    "my_kawhi_list.append(points)\n",
    "my_kawhi_list.append(rebounds)\n",
    "my_kawhi_list.append(assists)\n",
    "my_kawhi_list.append(steals)\n",
    "my_kawhi_list.append(blocks)\n",
    "print(\"Updated List:\", my_kawhi_list)"
   ]
  },
  {
   "cell_type": "markdown",
   "metadata": {},
   "source": [
    "### What do you see as potential problems with organizing my data on NBA players in this manner?"
   ]
  },
  {
   "cell_type": "markdown",
   "metadata": {},
   "source": [
    "### 6.1.1 Creating a Dictionary "
   ]
  },
  {
   "cell_type": "code",
   "execution_count": 15,
   "metadata": {},
   "outputs": [
    {
     "name": "stdout",
     "output_type": "stream",
     "text": [
      "first step: {'First Name': 'Kahwi'}\n",
      "Second step: {'First Name': 'Kahwi', 'Last Name': 'Leonard'}\n",
      "Last step: {'First Name': 'Kahwi', 'Last Name': 'Leonard', 'Height': 79.0}\n"
     ]
    }
   ],
   "source": [
    "Player = dict() #create an empty dictionary \n",
    "Player['First Name'] = 'Kahwi'  #This is known as a 'key':value pair.  The 'key' is first name and the value in 'Kawhi'\n",
    "print(\"first step:\",Player)\n",
    "Player['Last Name'] = 'Leonard'\n",
    "print(\"Second step:\",Player)\n",
    "Player['Height'] = 79.0 # The value can be a float, integer, string, list, array, or even another dictionary. \n",
    "print(\"Last step:\",Player) "
   ]
  },
  {
   "cell_type": "code",
   "execution_count": null,
   "metadata": {},
   "outputs": [],
   "source": [
    "#You could also have created the dictionary this way but I disapprove. \n",
    "#Player = {'First Name':'Kawhi','Last Name':'Leonard','Height':79.0}\n"
   ]
  },
  {
   "cell_type": "markdown",
   "metadata": {},
   "source": [
    "### We can add modify and remove Dictionary entries.  "
   ]
  },
  {
   "cell_type": "code",
   "execution_count": 16,
   "metadata": {},
   "outputs": [
    {
     "name": "stdout",
     "output_type": "stream",
     "text": [
      "[26.   6.6  5.   1.7  0.4]\n",
      "{'First Name': 'Kahwi', 'Last Name': 'Leonard', 'Height': 79.0, 'Stats': array([26. ,  6.6,  5. ,  1.7,  0.4])}\n"
     ]
    }
   ],
   "source": [
    "#%% Adding, Modifying, Removing Dictionary entries -Slide 17\n",
    "points = 26.0\n",
    "rebounds = 6.6\n",
    "assists = 5.0\n",
    "steals = 1.7\n",
    "blocks = 0.4\n",
    "#Add items to the dictionary\n",
    "Player['Points'] = points \n",
    "Player['Rebounds'] = rebounds\n",
    "stats = np.array([points,rebounds,assists,steals,blocks])\n",
    "print(stats)\n",
    "Player['Stats'] = stats\n",
    "#remove stats that are already in Stats\n",
    "del Player['Points']\n",
    "del Player['Rebounds']\n",
    "print(Player)\n",
    "#Remove items from the dictionary \n",
    "del Player['Height']\n",
    "#modify items in dictionary \n",
    "Player['First Name'] = 'Kawhi'"
   ]
  },
  {
   "cell_type": "markdown",
   "metadata": {},
   "source": [
    "### So why do I love dictionaries.   Because I don't have to remember whats in them."
   ]
  },
  {
   "cell_type": "code",
   "execution_count": 17,
   "metadata": {},
   "outputs": [
    {
     "data": {
      "text/plain": [
       "dict_keys(['First Name', 'Last Name', 'Stats'])"
      ]
     },
     "execution_count": 17,
     "metadata": {},
     "output_type": "execute_result"
    }
   ],
   "source": [
    "Player.keys()"
   ]
  },
  {
   "cell_type": "markdown",
   "metadata": {},
   "source": [
    "### Everything contained in a dictionary can be made very explicit by the appropriate choice of keys. "
   ]
  },
  {
   "cell_type": "markdown",
   "metadata": {},
   "source": [
    "### The information in a dictionary retains its data type "
   ]
  },
  {
   "cell_type": "code",
   "execution_count": 18,
   "metadata": {},
   "outputs": [],
   "source": [
    "kawhi_stats = Player['Stats']"
   ]
  },
  {
   "cell_type": "markdown",
   "metadata": {},
   "source": [
    "## 6.2 Pandas DataFrames\n",
    "\n",
    "### `pandas` is a file i/o and data organization module that is widely used in python programming. \n",
    "\n",
    "### One of the best things about `pandas` is that is can read in two of the most common data file types, \n",
    "* csv  - comma separated values\n",
    "* xls or xlsx - Microsoft Excel files.  \n",
    "\n",
    "### In this example I am going to load a csv file, *candy-data.csv* which contains data from a well-know study of candy preferences. "
   ]
  },
  {
   "cell_type": "code",
   "execution_count": 19,
   "metadata": {},
   "outputs": [],
   "source": [
    "candy_data = pd.read_csv('candy-data.csv')"
   ]
  },
  {
   "cell_type": "markdown",
   "metadata": {},
   "source": [
    "### Like a Dictionary, a DataFrame has keys  "
   ]
  },
  {
   "cell_type": "code",
   "execution_count": 20,
   "metadata": {},
   "outputs": [
    {
     "name": "stdout",
     "output_type": "stream",
     "text": [
      "Index(['competitorname', 'chocolate', 'fruity', 'caramel', 'peanutyalmondy',\n",
      "       'nougat', 'crispedricewafer', 'hard', 'bar', 'pluribus', 'sugarpercent',\n",
      "       'pricepercent', 'winpercent'],\n",
      "      dtype='object')\n"
     ]
    }
   ],
   "source": [
    "print(candy_data.keys())"
   ]
  },
  {
   "cell_type": "markdown",
   "metadata": {},
   "source": [
    "### Let's examine some the entries.  "
   ]
  },
  {
   "cell_type": "code",
   "execution_count": 29,
   "metadata": {},
   "outputs": [],
   "source": [
    "candyname = candy_data['competitorname']\n",
    "is_choco = candy_data['chocolate']\n",
    "win_percent = 100*candy_data['winpercent']\n",
    "sugar_percent = 100*candy_data['sugarpercent']"
   ]
  },
  {
   "cell_type": "markdown",
   "metadata": {},
   "source": [
    "### The datatype here is a **Series**.  Let's see what we can do with it. "
   ]
  },
  {
   "cell_type": "code",
   "execution_count": 30,
   "metadata": {},
   "outputs": [
    {
     "name": "stdout",
     "output_type": "stream",
     "text": [
      "47.86470514588233\n"
     ]
    }
   ],
   "source": [
    "meansugar = np.mean(sugar_percent)\n",
    "print(meansugar)"
   ]
  },
  {
   "cell_type": "markdown",
   "metadata": {},
   "source": [
    "### Look's like we can apply numpy functions to it. But I have sometimes run into trouble with it, especially with plotting.  You can always do this: "
   ]
  },
  {
   "cell_type": "code",
   "execution_count": 31,
   "metadata": {},
   "outputs": [
    {
     "name": "stdout",
     "output_type": "stream",
     "text": [
      "[73.199999  60.399997   1.1        1.1       90.600002  46.5\n",
      " 60.399997  31.299999  90.600002  60.399997  60.399997  73.199999\n",
      "  4.6       73.199999  73.199999  12.7       73.199999  90.600002\n",
      " 46.5       46.5       46.5       46.5       12.7       43.000001\n",
      " 43.000001  43.000001   9.3000002 19.7       31.299999  22.\n",
      "  4.6       26.699999  82.499999  82.499999  87.199998  30.199999\n",
      " 60.399997  73.199999  96.499997  31.299999  31.299999  84.799999\n",
      " 60.399997  31.299999  19.7       22.        46.5       59.299999\n",
      "  9.3000002 60.399997  58.099997   3.4000002 72.000003  40.599999\n",
      " 98.799998  73.199999  86.000001  73.199999  87.199998  22.\n",
      " 94.099998  94.099998  26.699999  26.699999  54.6       60.399997\n",
      "  6.8999998  6.8999998 15.099999  56.900001  96.499997  41.800001\n",
      " 16.2       60.399997  60.399997  31.299999  17.399999  46.5\n",
      " 31.299999  54.6       22.         9.3000002 31.299999  18.6\n",
      " 87.199998 ]\n"
     ]
    }
   ],
   "source": [
    "sugar_percent = np.array(sugar_percent)\n",
    "print(sugar_percent)"
   ]
  },
  {
   "cell_type": "markdown",
   "metadata": {},
   "source": [
    "### `array` is your friend!"
   ]
  },
  {
   "cell_type": "markdown",
   "metadata": {},
   "source": [
    "### Lets end this on a note of talking about plots!"
   ]
  },
  {
   "cell_type": "code",
   "execution_count": 26,
   "metadata": {},
   "outputs": [
    {
     "data": {
      "image/png": "[encoded data removed]",
      "text/plain": [
       "<Figure size 288x288 with 1 Axes>"
      ]
     },
     "metadata": {
      "needs_background": "light"
     },
     "output_type": "display_data"
    }
   ],
   "source": [
    "fig = plt.figure(figsize = (4,4))   #creates a blank canvas \n",
    "ax = fig.add_axes([0,0,1,1]) #creates an axes - (starting pt x, starting pt y, fractional size x, fractional size y)\n",
    "ax.plot(sugar_percent,win_percent,'ro')\n",
    "ax.set_xlabel('Sugar Percent')\n",
    "ax.set_ylabel('Win Percent')\n",
    "plt.grid()\n",
    "#ax.set_xlim([0,100])\n",
    "#ax.set_ylim([0,100])"
   ]
  }
 ],
 "metadata": {
  "kernelspec": {
   "display_name": "Python 3.9.12 ('base')",
   "language": "python",
   "name": "python3"
  },
  "language_info": {
   "codemirror_mode": {
    "name": "ipython",
    "version": 3
   },
   "file_extension": ".py",
   "mimetype": "text/x-python",
   "name": "python",
   "nbconvert_exporter": "python",
   "pygments_lexer": "ipython3",
   "version": "3.9.12"
  },
  "orig_nbformat": 4,
  "vscode": {
   "interpreter": {
    "hash": "c0ee39e78efaad2cd4905c526464c317a2db72f3d6af560f02cdc53ddfddf21e"
   }
  }
 },
 "nbformat": 4,
 "nbformat_minor": 2
}
