{
 "cells": [
  {
   "cell_type": "markdown",
   "metadata": {},
   "source": [
    "# Lesson 2 Numpy -  Data Arrays for Scientific Computing"
   ]
  },
  {
   "cell_type": "markdown",
   "metadata": {},
   "source": [
    "## 2.1 Introduction"
   ]
  },
  {
   "cell_type": "markdown",
   "metadata": {},
   "source": [
    "### The `numpy` **module** is used in almost all numerical computation using Python. \n",
    "\n",
    "### It is a package that provide high-performance vector, matrix and even higher-dimensional data structures for Python. Underneath the hood, it is implemented in C and Fortran so performance is very good. \n",
    "\n",
    "### To use `numpy` you need to import the module, or a specific **function** inside a module.  \n",
    "\n",
    "### A function is a specialized operation that has been programmed to take one or more *input* variables and return one or more *output* variables.  \n",
    "\n"
   ]
  },
  {
   "cell_type": "markdown",
   "metadata": {},
   "source": [
    "## 2.2 Import the numpy module"
   ]
  },
  {
   "cell_type": "markdown",
   "metadata": {},
   "source": [
    "### Because `numpy` is so generally useful, we usually import the entire numpy module.  There are two ways to do this:\n",
    "\n",
    "### `import numpy`\n",
    "\n",
    "### This tells python to import `numpy`\n",
    "\n",
    "### `import numpy as np`\n",
    "\n",
    "### This tells python to import the `numpy` module and use the abbreviation `np` to refer to it in the code. This is convenient as np is a lot faster to type than numpy.  Note that you could have called it whatever you want.  `np` is widely used as an abbreviation for `numpy`. \n"
   ]
  },
  {
   "cell_type": "code",
   "execution_count": null,
   "metadata": {},
   "outputs": [],
   "source": [
    "import numpy as np"
   ]
  },
  {
   "cell_type": "markdown",
   "metadata": {},
   "source": [
    "## 2.3 Creating `numpy` arrays"
   ]
  },
  {
   "cell_type": "markdown",
   "metadata": {},
   "source": [
    "### In the `numpy` module the terminology used for vectors, matrices and higher-dimensional data sets is **array**. \n",
    "\n",
    "### There are a number of ways to initialize new numpy arrays, for example from\n",
    "###\n",
    "* using functions that are dedicated to generating numpy arrays, such as `arange`, `linspace`, etc.\n",
    "###\n",
    "* creating an array filled with zeros such as `zeros`\n",
    "###\n",
    "* creating an array filled with random numbers using `random`\n",
    "###\n",
    "### In working with data we will learn also how to create numpy arrays by \n",
    "###\n",
    "* reading data from different types of files\n",
    "###\n",
    "* converting a Python list or tuples [covered in this weeks Tutorial]\n",
    "###"
   ]
  },
  {
   "cell_type": "markdown",
   "metadata": {},
   "source": [
    "##  2.3.1 Initializing an array of zeros"
   ]
  },
  {
   "cell_type": "markdown",
   "metadata": {},
   "source": [
    "### Probably the most common way to create an array is to initialize all the elements of the array with the value 0. \n",
    "\n",
    "### This can be done with the function `zeros`. \n",
    "\n",
    "### To invoke this function use `np.zeros`. I refer to it as `zeros` as it is the function `zeros` in the `np` module.  \n",
    "\n",
    "### I need to also decide on the size of the array.  In this example below i initialize an array called my_array with 5 elements, all of which have the value 0.  \n"
   ]
  },
  {
   "cell_type": "code",
   "execution_count": null,
   "metadata": {},
   "outputs": [],
   "source": [
    "my_array = np.zeros(5)\n",
    "print(my_array)"
   ]
  },
  {
   "cell_type": "markdown",
   "metadata": {},
   "source": [
    "### Now I'm going to initialize a slightly different array.  This is an array which has two dimensions.  It has 1 row and 5 columns. "
   ]
  },
  {
   "cell_type": "code",
   "execution_count": null,
   "metadata": {},
   "outputs": [],
   "source": [
    "my_array2 = np.zeros((1,5))\n",
    "print(my_array2)"
   ]
  },
  {
   "cell_type": "markdown",
   "metadata": {},
   "source": [
    "### An array with 2 dimensions is called a matrix.  Lets initialize another matrix"
   ]
  },
  {
   "cell_type": "code",
   "execution_count": null,
   "metadata": {},
   "outputs": [],
   "source": [
    "my_matrix = np.zeros((3,4))\n",
    "print(my_matrix)"
   ]
  },
  {
   "cell_type": "markdown",
   "metadata": {},
   "source": [
    "## 2.3.2 Checking the type of array.  \n",
    "### The `type` function in python will tell us what type of variable is my_array"
   ]
  },
  {
   "cell_type": "code",
   "execution_count": null,
   "metadata": {},
   "outputs": [],
   "source": [
    "type(my_array)"
   ]
  },
  {
   "cell_type": "code",
   "execution_count": null,
   "metadata": {},
   "outputs": [],
   "source": [
    "type(my_array2)"
   ]
  },
  {
   "cell_type": "code",
   "execution_count": null,
   "metadata": {},
   "outputs": [],
   "source": [
    "type(my_matrix)"
   ]
  },
  {
   "cell_type": "markdown",
   "metadata": {},
   "source": [
    "### That doesn't seem super useful, and it usually isn't if you are using an IDE"
   ]
  },
  {
   "cell_type": "markdown",
   "metadata": {},
   "source": [
    "## 2.3.3 Examining Array Size, Shape, and Data Type"
   ]
  },
  {
   "cell_type": "markdown",
   "metadata": {},
   "source": [
    "\n",
    "### Arrays generated with numpy have built in `methods`.  Some of these methods return properties of the arrays, and some of them can be used to manipulate the array\n",
    "###\n",
    "* `shape` tells us the shape of an array\n",
    "###\n",
    "* `size` tells us the total number of elements in an array "
   ]
  },
  {
   "cell_type": "code",
   "execution_count": null,
   "metadata": {
    "scrolled": true
   },
   "outputs": [],
   "source": [
    "array_shape = my_array.shape\n",
    "print(array_shape)"
   ]
  },
  {
   "cell_type": "code",
   "execution_count": null,
   "metadata": {},
   "outputs": [],
   "source": [
    "array2_shape = my_array2.shape\n",
    "print(array2_shape)\n"
   ]
  },
  {
   "cell_type": "code",
   "execution_count": null,
   "metadata": {},
   "outputs": [],
   "source": [
    "matrix_shape = my_matrix.shape\n",
    "print(matrix_shape)"
   ]
  },
  {
   "cell_type": "code",
   "execution_count": null,
   "metadata": {},
   "outputs": [],
   "source": [
    "matrix_shape = my_matrix.shape\n",
    "print(matrix_shape)"
   ]
  },
  {
   "cell_type": "code",
   "execution_count": null,
   "metadata": {},
   "outputs": [],
   "source": [
    "array_size = my_array.size\n",
    "print(array_size)"
   ]
  },
  {
   "cell_type": "code",
   "execution_count": null,
   "metadata": {},
   "outputs": [],
   "source": [
    "matrix_size = my_matrix.size\n",
    "print(matrix_size)"
   ]
  },
  {
   "cell_type": "markdown",
   "metadata": {},
   "source": [
    "### Alternatively, you could obtain the same information by using the corresponding `numpy` functions"
   ]
  },
  {
   "cell_type": "code",
   "execution_count": null,
   "metadata": {},
   "outputs": [],
   "source": [
    "array_shape = np.shape(my_matrix)\n",
    "print(array_shape)"
   ]
  },
  {
   "cell_type": "code",
   "execution_count": null,
   "metadata": {},
   "outputs": [],
   "source": [
    "array_size = np.size(my_matrix)\n",
    "print(array_size)"
   ]
  },
  {
   "cell_type": "markdown",
   "metadata": {},
   "source": [
    "### You can use `dtype` query the array for the type of data contained in it. "
   ]
  },
  {
   "cell_type": "code",
   "execution_count": null,
   "metadata": {},
   "outputs": [],
   "source": [
    "my_array.dtype"
   ]
  },
  {
   "cell_type": "markdown",
   "metadata": {},
   "source": [
    "### We made a matrix of zeros.  zeros could have been integers, but they can also be floating point numbers. \n",
    "\n",
    "### notice that instead of `float` it specifies the type as `float64`.  This refers the precision of the computer on which you are doing calculations.  \n",
    "\n",
    "### In most applications, we don't worry about the bit-size and let python go to its default which is usually 64 bit on modern computers.  \n",
    "\n",
    "### However, there are some times you have to pay attention to it.  One example is in handling images, where the number of bits controls the degree of specificity in color, etc of an image. \n",
    "\n",
    "### Another example which will come up next week is sometimes we want arrays of integers.  "
   ]
  },
  {
   "cell_type": "markdown",
   "metadata": {},
   "source": [
    "## 2.3.4 Initializing an array of ones or any arbitrary value!)"
   ]
  },
  {
   "cell_type": "markdown",
   "metadata": {},
   "source": [
    "### Similar to the function `zeros` numpy has a function called `ones`"
   ]
  },
  {
   "cell_type": "code",
   "execution_count": null,
   "metadata": {},
   "outputs": [],
   "source": [
    "my_one_array = np.ones(4)\n",
    "print(my_one_array)"
   ]
  },
  {
   "cell_type": "markdown",
   "metadata": {},
   "source": [
    "### You can use it to make arrays containing arbitrary values"
   ]
  },
  {
   "cell_type": "code",
   "execution_count": null,
   "metadata": {},
   "outputs": [],
   "source": [
    "my_fives_array = 5*np.ones(10)\n",
    "print(my_fives_array)"
   ]
  },
  {
   "cell_type": "markdown",
   "metadata": {},
   "source": [
    "### As shown in the example above, I can always make an array of ones, and then multiply it by an arbitrary constant to make an array of that value. "
   ]
  },
  {
   "cell_type": "markdown",
   "metadata": {},
   "source": [
    "## 2.3.4 Array-generating functions"
   ]
  },
  {
   "cell_type": "markdown",
   "metadata": {},
   "source": [
    "### `zeros` and `ones` are examples of array generating function, which populates an array of user specified size with the value zero or one respectively.  \n",
    "### There are a number of very useful array generating functions in the numpy module.\n",
    "### We will introduce the 2 of the most important ones here:\n",
    "###\n",
    "* `arange` - creates a range of linearly spaced values specifying interval\n",
    "###\n",
    "* `linspace` - lineary spaced values specifying number of values\n",
    "\n",
    "\n"
   ]
  },
  {
   "cell_type": "markdown",
   "metadata": {},
   "source": [
    "### `arange` creates an array containing values from a starting point to an ending point with a user specified step. \n",
    "\n",
    "###  **The ending point is not included in the array.**  "
   ]
  },
  {
   "cell_type": "code",
   "execution_count": null,
   "metadata": {},
   "outputs": [],
   "source": [
    "# create a range\n",
    "#using arange the stop point IS NOT included\n",
    "x = np.arange(0, 10, 1) # arguments: start, stop, step\n",
    "\n",
    "x"
   ]
  },
  {
   "cell_type": "code",
   "execution_count": null,
   "metadata": {},
   "outputs": [],
   "source": [
    "y = np.arange(-4, 4.01, 0.5)  #notice I stopped it at 4.01 instead of 4.  \n",
    "\n",
    "print(y)"
   ]
  },
  {
   "cell_type": "markdown",
   "metadata": {},
   "source": [
    "### `linspace` creates an array from a starting point to an ending point, with the number of points specified by the user rather than the step.  \n",
    "\n",
    "### **The ending point is included in the array** "
   ]
  },
  {
   "cell_type": "code",
   "execution_count": null,
   "metadata": {},
   "outputs": [],
   "source": [
    "# using linspace, both end points ARE included\n",
    "z = np.linspace(0, 10, 25) #arguments: start, stop, number of points\n",
    "z"
   ]
  },
  {
   "cell_type": "code",
   "execution_count": null,
   "metadata": {},
   "outputs": [],
   "source": [
    "np.shape(z)"
   ]
  },
  {
   "cell_type": "markdown",
   "metadata": {},
   "source": [
    "## 2.4  Arithmetic with arrays \n",
    "\n",
    "### The arithmetic expressions we carried out with variables will mostly work the same way with arrays.  "
   ]
  },
  {
   "cell_type": "markdown",
   "metadata": {},
   "source": [
    "## 2.4.1 Arithmetic with scalar numbers. \n",
    "\n",
    "### We can use the usual arithmetic operators to multiply, add, subtract, and divide arrays with scalar numbers."
   ]
  },
  {
   "cell_type": "code",
   "execution_count": null,
   "metadata": {},
   "outputs": [],
   "source": [
    "v1 = np.arange(0, 5)"
   ]
  },
  {
   "cell_type": "code",
   "execution_count": null,
   "metadata": {},
   "outputs": [],
   "source": [
    "w1 = v1 * 2"
   ]
  },
  {
   "cell_type": "code",
   "execution_count": null,
   "metadata": {},
   "outputs": [],
   "source": [
    "w2 = v1 + 2"
   ]
  }
 ],
 "metadata": {
  "kernelspec": {
   "display_name": "Python 3.9.12 ('base')",
   "language": "python",
   "name": "python3"
  },
  "language_info": {
   "codemirror_mode": {
    "name": "ipython",
    "version": 3
   },
   "file_extension": ".py",
   "mimetype": "text/x-python",
   "name": "python",
   "nbconvert_exporter": "python",
   "pygments_lexer": "ipython3",
   "version": "3.9.12"
  },
  "vscode": {
   "interpreter": {
    "hash": "c0ee39e78efaad2cd4905c526464c317a2db72f3d6af560f02cdc53ddfddf21e"
   }
  }
 },
 "nbformat": 4,
 "nbformat_minor": 1
}
